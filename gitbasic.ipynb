# ** AfterWork-Market Basket Analysis Project**


**Defining the Question**

Which of the 10 products in the stores are likely to be purchased together

**Data Preparation**

#loading the pre-requisites
import pandas as pd
from mlxtend.frequent_patterns import apriori
from mlxtend.frequent_patterns import association_rules

#reading the data
stores=pd.read_csv("MarketBasketAnalysis.csv")
stores.head()

**Data Exploration**

#getting the dataset's records
stores.shape

#getting a sample number of records
stores.sample(10)

#checking the number of missing values
stores.isnull().sum()

#checking if the dataset has duplicates(its number)
sum(stores.duplicated())

#checking its summary description table
stores.describe()

#grouping the data
stores_df=stores.groupby(['Transaction', 'Product']).size().reset_index(name="Count")
stores_df.head()

#changing its structure to a more wide format
stores_df1 = (stores_df.groupby(['Transaction', 'Product'])['Count'].sum().unstack().reset_index().fillna(0).set_index('Transaction'))

stores_df1.head(10)

#converting the dataset to a one- hot encoded dataset
def encode_units(x):
  if x<=0:
    return 0
  if x>=1:
    return 1

stores_df2 = stores_df1.applymap(encode_units)

stores_df2.head()

#computing the frequent_itemsets
stores_frequent_itemsets=apriori(stores_df2, min_support=0.01,use_colnames=True)
stores_frequent_itemsets.head()

#getting the association rules and sorting by their confidence
stores_rules=association_rules(stores_frequent_itemsets,metric="lift",min_threshold=1)
stores_rules.sort_values('confidence',ascending=False, inplace=True)
stores_rules.head(10)

**Interpretation** 

The items that are most likely to be bought together due to their higher lifts are as follows starting with the highely associated ones:

*   (ToothPaste,Pencils) and Candy Bar - 
There is a 48% chance that the purchase of ToothPaste and Pencils leads to the
purchase of Candy bar as well.There is a higher likelihood of the items being bought together because of the higher lift which shows that the purchase of toothpaste,pencils led to a purchase in Candy Bar 2.75 times.Therefore we conclude that there is an association between them
*   (Magazine, Greeting Cards) and Candy Bar
There is a 46% chance that the purchase of (Magazine, Greeting Cards) leads to the purchase of Candy bar as well.There is a higher likelihood of the items being bought together because of the higher lift which shows that the purchase of magazine,greeting cards leads to a purchase in Candy Bar 2.62 times.Therefore we conclude that there is an association between them
*   (Magazine, Toothpaste) and Candy Bar
There is a 44% chance that the purchase of Magazine,Toothpaste will lead to the purchase of Candy Bar.The two items are likely to be bought together because of their higher lift
*   (Toothpaste, Greeting Cards) and Candy Bar
There is a 44% chance that the purchase of Toothpaste,Greeting Cards will lead to the purchase of Candy Bar.The two items are likely to be bought together because of their higher lift
*   (Candy Bar, Magazine) and Greeting Cards
There is a 43% chance that the purchase of Candy Bar, Magazine will lead to the purchase of sGreeting Card.The two items are likely to be bought together because of their higher lift
*   (Magazine, Pencils) and Greeting Cards
There is a 42% chance that the purchase of Magazine, Pencils will lead to the purchase of Greeting Card.The two items are likely to be bought together because of their higher lift
*   (Pencils, Greeting Cards) and Magazine
There is a 40% chance that the purchase of Pencils, Greeting Cards will lead to the purchase of Magazine.The two items are likely to be bought together because of their higher lift
*   (Candy Bar, Greeting Cards) and Magazine
There is a 37% chance that the purchase of Candy Bar, Greeting Cards will lead to the purchase of Magazine.The two items are likely to be bought together because of their higher lift
*   (Magazine, Toothpaste) and Greeting Cards
There is a 37% chance that the purchase of Magazine,Toothpaste will lead to the purchase of Greeting Cards.The two items are likely to be bought together because of their higher lift
*   (Magazine, Pencils) and Candy Bar
There is a 36% chance that the purchase of Magazine,Pencils will lead to the purchase of Candy Bar.The two items are likely to be bought together because of their higher lift

**Recommendations**

*  The items should be arranged in the counter shelves together to promote their
purchases
*   We could put the consequent items in the cashier so that every time a 
customer purchases the first/antecedent itemset,then they can be recommended as well to purchase the other one
*  The itemsets can also be bundled together and sold at a cheaper price to promote purchase of both together as compared to each at a higher price






